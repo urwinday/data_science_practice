{
 "cells": [
  {
   "cell_type": "markdown",
   "metadata": {},
   "source": [
    "**Генерация OLAP-куба, где зафиксированы продажи товаров в розничной сети по городам.**\n",
    "\n",
    "**Оси:**\n",
    " - 0: ID товара\n",
    " - 1: ID города\n",
    " - 2: день месяца, в котором осуществляются продажи\n",
    " \n",
    " - ***0: ID товара - 3(ластик, линейка, карандаш)***\n",
    " - ***1: ID города - 2(Санкт-Петербург, Москва)***\n",
    " - ***2: день месяца, в котором осуществляются продажи - 7(Дни недели)***\n",
    " "
   ]
  },
  {
   "cell_type": "code",
   "execution_count": 1,
   "metadata": {},
   "outputs": [],
   "source": [
    "import numpy as np"
   ]
  },
  {
   "cell_type": "code",
   "execution_count": 2,
   "metadata": {},
   "outputs": [
    {
     "data": {
      "text/plain": [
       "array([[[44.48526504, 27.93789001, 27.69594153, 32.73020598,\n",
       "          9.42971657,  4.40100041, 85.38028851],\n",
       "        [34.14516879, 97.10771038, 63.8554813 , 20.79193136,\n",
       "          8.57681228, 64.19031847, 41.01751661]],\n",
       "\n",
       "       [[48.75783553, 56.73061979, 55.03463315, 30.77496323,\n",
       "         34.9955855 , 86.71385683, 97.63069512],\n",
       "        [33.71238557, 34.34623991, 53.25276884, 70.09950325,\n",
       "         10.34527785, 45.57679723, 26.64710982]],\n",
       "\n",
       "       [[92.57419044, 53.4979941 , 92.75737281, 88.11172001,\n",
       "         58.84635432, 71.08512718,  8.86736303],\n",
       "        [ 8.06448017, 16.80081517, 27.13769018, 15.68362656,\n",
       "         48.91868596, 10.75206254, 26.16249147]]])"
      ]
     },
     "execution_count": 2,
     "metadata": {},
     "output_type": "execute_result"
    }
   ],
   "source": [
    "a = 100*np.random.random((3,2,7))\n",
    "a"
   ]
  },
  {
   "cell_type": "code",
   "execution_count": 3,
   "metadata": {},
   "outputs": [
    {
     "data": {
      "text/plain": [
       "array([[[44, 27, 27, 32,  9,  4, 85],\n",
       "        [34, 97, 63, 20,  8, 64, 41]],\n",
       "\n",
       "       [[48, 56, 55, 30, 34, 86, 97],\n",
       "        [33, 34, 53, 70, 10, 45, 26]],\n",
       "\n",
       "       [[92, 53, 92, 88, 58, 71,  8],\n",
       "        [ 8, 16, 27, 15, 48, 10, 26]]])"
      ]
     },
     "execution_count": 3,
     "metadata": {},
     "output_type": "execute_result"
    }
   ],
   "source": [
    "a = a.astype(int)\n",
    "a"
   ]
  },
  {
   "cell_type": "markdown",
   "metadata": {},
   "source": [
    "### Анализ"
   ]
  },
  {
   "cell_type": "code",
   "execution_count": 4,
   "metadata": {},
   "outputs": [
    {
     "data": {
      "text/plain": [
       "array([[[44, 27, 27, 32,  9,  4, 85],\n",
       "        [34, 97, 63, 20,  8, 64, 41]],\n",
       "\n",
       "       [[48, 56, 55, 30, 34, 86, 97],\n",
       "        [33, 34, 53, 70, 10, 45, 26]],\n",
       "\n",
       "       [[92, 53, 92, 88, 58, 71,  8],\n",
       "        [ 8, 16, 27, 15, 48, 10, 26]]])"
      ]
     },
     "execution_count": 4,
     "metadata": {},
     "output_type": "execute_result"
    }
   ],
   "source": [
    "a0articul = a[:,:,:]\n",
    "a0articul"
   ]
  },
  {
   "cell_type": "markdown",
   "metadata": {},
   "source": [
    "**Информация по Санкт-Петербургу**"
   ]
  },
  {
   "cell_type": "code",
   "execution_count": 5,
   "metadata": {},
   "outputs": [
    {
     "data": {
      "text/plain": [
       "array([[44, 27, 27, 32,  9,  4, 85],\n",
       "       [48, 56, 55, 30, 34, 86, 97],\n",
       "       [92, 53, 92, 88, 58, 71,  8]])"
      ]
     },
     "execution_count": 5,
     "metadata": {},
     "output_type": "execute_result"
    }
   ],
   "source": [
    "a1piter = a[:,0,:]\n",
    "a1piter"
   ]
  },
  {
   "cell_type": "markdown",
   "metadata": {},
   "source": [
    "**Информация за выходные в городах вместе**"
   ]
  },
  {
   "cell_type": "code",
   "execution_count": 6,
   "metadata": {},
   "outputs": [
    {
     "data": {
      "text/plain": [
       "array([[ 89, 105],\n",
       "       [183,  71],\n",
       "       [ 79,  36]])"
      ]
     },
     "execution_count": 6,
     "metadata": {},
     "output_type": "execute_result"
    }
   ],
   "source": [
    "a2weekend = a[:,:,5] +  a[:,:,6] \n",
    "a2weekend"
   ]
  },
  {
   "cell_type": "markdown",
   "metadata": {},
   "source": [
    "**Сделали срез: **\n",
    " - товары(ластик, карандаш), \n",
    " - Санкт-Петербург Москва, \n",
    " - в выходные."
   ]
  },
  {
   "cell_type": "code",
   "execution_count": 7,
   "metadata": {},
   "outputs": [
    {
     "data": {
      "text/plain": [
       "array([[[ 4, 85],\n",
       "        [64, 41]],\n",
       "\n",
       "       [[71,  8],\n",
       "        [10, 26]]])"
      ]
     },
     "execution_count": 7,
     "metadata": {},
     "output_type": "execute_result"
    }
   ],
   "source": [
    "a2weekend = a[(0,2),:,5:7]\n",
    "a2weekend "
   ]
  },
  {
   "cell_type": "markdown",
   "metadata": {},
   "source": [
    "**суммировали ластики и карандаши по дням в Санкт-Петербурге и Москве**"
   ]
  },
  {
   "cell_type": "code",
   "execution_count": 8,
   "metadata": {},
   "outputs": [
    {
     "data": {
      "text/plain": [
       "array([[ 68, 126],\n",
       "       [ 81,  34]])"
      ]
     },
     "execution_count": 8,
     "metadata": {},
     "output_type": "execute_result"
    }
   ],
   "source": [
    "a2weekend.sum(axis=1)"
   ]
  },
  {
   "cell_type": "markdown",
   "metadata": {},
   "source": [
    "**суммировали **\n",
    " - за два выходных \n",
    " - все ластики \n",
    " - в Санкт-Петербурге и Москве, \n",
    " - и все карандаши в Санкт-Петербурге и Москве"
   ]
  },
  {
   "cell_type": "code",
   "execution_count": 9,
   "metadata": {},
   "outputs": [
    {
     "data": {
      "text/plain": [
       "array([[ 89, 105],\n",
       "       [ 79,  36]])"
      ]
     },
     "execution_count": 9,
     "metadata": {},
     "output_type": "execute_result"
    }
   ],
   "source": [
    "a2weekend.sum(axis=2)"
   ]
  },
  {
   "cell_type": "markdown",
   "metadata": {},
   "source": [
    "**Для получившегося OLAP-куба считаем** \n",
    " - суммарные, \n",
    " - средние, \n",
    " - минимальные \n",
    " - и максимальные продажи,\n",
    " \n",
    "**зафиксировав значения по одной, двум или трём осям:**"
   ]
  },
  {
   "cell_type": "code",
   "execution_count": 10,
   "metadata": {},
   "outputs": [
    {
     "data": {
      "text/plain": [
       "309"
      ]
     },
     "execution_count": 10,
     "metadata": {},
     "output_type": "execute_result"
    }
   ],
   "source": [
    "a2weekend.sum()"
   ]
  },
  {
   "cell_type": "code",
   "execution_count": 11,
   "metadata": {},
   "outputs": [
    {
     "data": {
      "text/plain": [
       "38.625"
      ]
     },
     "execution_count": 11,
     "metadata": {},
     "output_type": "execute_result"
    }
   ],
   "source": [
    "a2weekend.mean()"
   ]
  },
  {
   "cell_type": "code",
   "execution_count": 12,
   "metadata": {},
   "outputs": [
    {
     "data": {
      "text/plain": [
       "4"
      ]
     },
     "execution_count": 12,
     "metadata": {},
     "output_type": "execute_result"
    }
   ],
   "source": [
    "a2weekend.min()"
   ]
  },
  {
   "cell_type": "code",
   "execution_count": 13,
   "metadata": {},
   "outputs": [
    {
     "data": {
      "text/plain": [
       "85"
      ]
     },
     "execution_count": 13,
     "metadata": {},
     "output_type": "execute_result"
    }
   ],
   "source": [
    "a2weekend.max()"
   ]
  },
  {
   "cell_type": "markdown",
   "metadata": {},
   "source": [
    "**средние продажи **\n",
    " - в субботу и воскресенье \n",
    " - в Санкт-Петербурге и Москве \n",
    " - по товарам ластик и карандаш"
   ]
  },
  {
   "cell_type": "code",
   "execution_count": 14,
   "metadata": {},
   "outputs": [
    {
     "data": {
      "text/plain": [
       "array([[37.5, 46.5],\n",
       "       [37. , 33.5]])"
      ]
     },
     "execution_count": 14,
     "metadata": {},
     "output_type": "execute_result"
    }
   ],
   "source": [
    "a2weekend.mean(axis = 0)"
   ]
  },
  {
   "cell_type": "markdown",
   "metadata": {},
   "source": [
    "**за выходные больше в Санкт-Петербурге или Москве**"
   ]
  },
  {
   "cell_type": "code",
   "execution_count": 15,
   "metadata": {},
   "outputs": [
    {
     "data": {
      "text/plain": [
       "array([[ 89, 105],\n",
       "       [ 79,  36]])"
      ]
     },
     "execution_count": 15,
     "metadata": {},
     "output_type": "execute_result"
    }
   ],
   "source": [
    "a2weekend.sum(axis = 2)"
   ]
  },
  {
   "cell_type": "code",
   "execution_count": 16,
   "metadata": {},
   "outputs": [
    {
     "data": {
      "text/plain": [
       "array([79, 36])"
      ]
     },
     "execution_count": 16,
     "metadata": {},
     "output_type": "execute_result"
    }
   ],
   "source": [
    "a2weekend.sum(axis = 2).min(axis = 0)"
   ]
  },
  {
   "cell_type": "markdown",
   "metadata": {},
   "source": [
    "### Срез: за будни все товары по всем городам"
   ]
  },
  {
   "cell_type": "code",
   "execution_count": 17,
   "metadata": {},
   "outputs": [
    {
     "data": {
      "text/plain": [
       "array([[[44, 27, 27, 32,  9],\n",
       "        [34, 97, 63, 20,  8]],\n",
       "\n",
       "       [[48, 56, 55, 30, 34],\n",
       "        [33, 34, 53, 70, 10]],\n",
       "\n",
       "       [[92, 53, 92, 88, 58],\n",
       "        [ 8, 16, 27, 15, 48]]])"
      ]
     },
     "execution_count": 17,
     "metadata": {},
     "output_type": "execute_result"
    }
   ],
   "source": [
    "workindays = a[:,:,0:5]\n",
    "workindays"
   ]
  },
  {
   "cell_type": "markdown",
   "metadata": {},
   "source": [
    "**Анализ среза**"
   ]
  },
  {
   "cell_type": "code",
   "execution_count": 18,
   "metadata": {},
   "outputs": [
    {
     "data": {
      "text/plain": [
       "1281"
      ]
     },
     "execution_count": 18,
     "metadata": {},
     "output_type": "execute_result"
    }
   ],
   "source": [
    "workindays.sum()"
   ]
  },
  {
   "cell_type": "code",
   "execution_count": 19,
   "metadata": {},
   "outputs": [
    {
     "data": {
      "text/plain": [
       "8"
      ]
     },
     "execution_count": 19,
     "metadata": {},
     "output_type": "execute_result"
    }
   ],
   "source": [
    "workindays.min()"
   ]
  },
  {
   "cell_type": "code",
   "execution_count": 20,
   "metadata": {},
   "outputs": [
    {
     "data": {
      "text/plain": [
       "97"
      ]
     },
     "execution_count": 20,
     "metadata": {},
     "output_type": "execute_result"
    }
   ],
   "source": [
    "workindays.max()"
   ]
  },
  {
   "cell_type": "code",
   "execution_count": 21,
   "metadata": {},
   "outputs": [
    {
     "data": {
      "text/plain": [
       "42.7"
      ]
     },
     "execution_count": 21,
     "metadata": {},
     "output_type": "execute_result"
    }
   ],
   "source": [
    "workindays.mean()"
   ]
  },
  {
   "cell_type": "code",
   "execution_count": 22,
   "metadata": {},
   "outputs": [
    {
     "data": {
      "text/plain": [
       "array([[139, 222],\n",
       "       [223, 200],\n",
       "       [383, 114]])"
      ]
     },
     "execution_count": 22,
     "metadata": {},
     "output_type": "execute_result"
    }
   ],
   "source": [
    "# сумма по дням, по axis= 2\n",
    "workindays.sum(axis= 2)"
   ]
  },
  {
   "cell_type": "markdown",
   "metadata": {},
   "source": [
    "### Конец анализа среза: будние дни"
   ]
  },
  {
   "cell_type": "markdown",
   "metadata": {},
   "source": [
    "   "
   ]
  },
  {
   "cell_type": "code",
   "execution_count": 23,
   "metadata": {},
   "outputs": [
    {
     "data": {
      "text/plain": [
       "array([[ 78, 124,  90,  52,  17,  68, 126],\n",
       "       [ 81,  90, 108, 100,  44, 131, 123],\n",
       "       [100,  69, 119, 103, 106,  81,  34]])"
      ]
     },
     "execution_count": 23,
     "metadata": {},
     "output_type": "execute_result"
    }
   ],
   "source": [
    "a0articul.sum(axis = 1)"
   ]
  },
  {
   "cell_type": "code",
   "execution_count": 24,
   "metadata": {},
   "outputs": [
    {
     "data": {
      "text/plain": [
       "array([[ 78, 124,  90,  52,  17,  68, 126],\n",
       "       [ 81,  90, 108, 100,  44, 131, 123],\n",
       "       [100,  69, 119, 103, 106,  81,  34]])"
      ]
     },
     "execution_count": 24,
     "metadata": {},
     "output_type": "execute_result"
    }
   ],
   "source": [
    "# сумма по 0 артикулу товара\n",
    "a.sum( axis = 1 )"
   ]
  },
  {
   "cell_type": "code",
   "execution_count": 25,
   "metadata": {},
   "outputs": [
    {
     "data": {
      "text/plain": [
       "array([44, 27, 27, 32,  9,  4, 85])"
      ]
     },
     "execution_count": 25,
     "metadata": {},
     "output_type": "execute_result"
    }
   ],
   "source": [
    "a0 = a[0,0,:]\n",
    "a0"
   ]
  },
  {
   "cell_type": "code",
   "execution_count": 26,
   "metadata": {},
   "outputs": [
    {
     "data": {
      "text/plain": [
       "124"
      ]
     },
     "execution_count": 26,
     "metadata": {},
     "output_type": "execute_result"
    }
   ],
   "source": [
    "# сумма по 0 артикулу товара , 0 магаз, 0 день\n",
    "a.sum( axis = 1 )[0,1]"
   ]
  },
  {
   "cell_type": "code",
   "execution_count": 27,
   "metadata": {},
   "outputs": [
    {
     "data": {
      "text/plain": [
       "array([ 78, 124,  90,  52,  17,  68, 126])"
      ]
     },
     "execution_count": 27,
     "metadata": {},
     "output_type": "execute_result"
    }
   ],
   "source": [
    "# сумма по 0 артикулу товара , 0 день в 0 городе и 1 городе\n",
    "a.sum( axis = 1 )[0,:]"
   ]
  },
  {
   "cell_type": "code",
   "execution_count": 28,
   "metadata": {},
   "outputs": [
    {
     "data": {
      "text/plain": [
       "array([[44, 27, 27, 32,  9,  4, 85],\n",
       "       [34, 97, 63, 20,  8, 64, 41]])"
      ]
     },
     "execution_count": 28,
     "metadata": {},
     "output_type": "execute_result"
    }
   ],
   "source": [
    "#инфа по ластику\n",
    "a[ 0, :]"
   ]
  },
  {
   "cell_type": "code",
   "execution_count": 29,
   "metadata": {},
   "outputs": [
    {
     "data": {
      "text/plain": [
       "array([[34, 27, 27, 20,  8,  4, 41],\n",
       "       [33, 34, 53, 30, 10, 45, 26],\n",
       "       [ 8, 16, 27, 15, 48, 10,  8]])"
      ]
     },
     "execution_count": 29,
     "metadata": {},
     "output_type": "execute_result"
    }
   ],
   "source": [
    "a.min(axis=1)"
   ]
  },
  {
   "cell_type": "code",
   "execution_count": 30,
   "metadata": {},
   "outputs": [
    {
     "data": {
      "text/plain": [
       "array([[228, 327],\n",
       "       [406, 271],\n",
       "       [462, 150]])"
      ]
     },
     "execution_count": 30,
     "metadata": {},
     "output_type": "execute_result"
    }
   ],
   "source": [
    "a.sum(axis = 2) "
   ]
  },
  {
   "cell_type": "code",
   "execution_count": 31,
   "metadata": {},
   "outputs": [
    {
     "data": {
      "text/plain": [
       "array([[39. , 62. , 45. , 26. ,  8.5, 34. , 63. ],\n",
       "       [40.5, 45. , 54. , 50. , 22. , 65.5, 61.5],\n",
       "       [50. , 34.5, 59.5, 51.5, 53. , 40.5, 17. ]])"
      ]
     },
     "execution_count": 31,
     "metadata": {},
     "output_type": "execute_result"
    }
   ],
   "source": [
    "m = a.mean(axis = 1) \n",
    "m"
   ]
  },
  {
   "cell_type": "code",
   "execution_count": 32,
   "metadata": {
    "scrolled": true
   },
   "outputs": [
    {
     "data": {
      "text/plain": [
       "array([129.5, 141.5, 158.5, 127.5,  83.5, 140. , 141.5])"
      ]
     },
     "execution_count": 32,
     "metadata": {},
     "output_type": "execute_result"
    }
   ],
   "source": [
    "m.sum(axis = 0)"
   ]
  },
  {
   "cell_type": "code",
   "execution_count": 33,
   "metadata": {},
   "outputs": [
    {
     "data": {
      "text/plain": [
       "array([[184, 136, 174, 150, 101, 161, 190],\n",
       "       [ 75, 147, 143, 105,  66, 119,  93]])"
      ]
     },
     "execution_count": 33,
     "metadata": {},
     "output_type": "execute_result"
    }
   ],
   "source": [
    "#среднее по товару\n",
    "n = a.sum(axis = 0).astype(int)\n",
    "n\n"
   ]
  },
  {
   "cell_type": "code",
   "execution_count": 34,
   "metadata": {},
   "outputs": [
    {
     "data": {
      "text/plain": [
       "array([1096,  748])"
      ]
     },
     "execution_count": 34,
     "metadata": {},
     "output_type": "execute_result"
    }
   ],
   "source": [
    "# сумму по городам\n",
    "n.sum(axis = 1) "
   ]
  }
 ],
 "metadata": {
  "kernelspec": {
   "display_name": "Python 3",
   "language": "python",
   "name": "python3"
  },
  "language_info": {
   "codemirror_mode": {
    "name": "ipython",
    "version": 3
   },
   "file_extension": ".py",
   "mimetype": "text/x-python",
   "name": "python",
   "nbconvert_exporter": "python",
   "pygments_lexer": "ipython3",
   "version": "3.6.5"
  }
 },
 "nbformat": 4,
 "nbformat_minor": 2
}
