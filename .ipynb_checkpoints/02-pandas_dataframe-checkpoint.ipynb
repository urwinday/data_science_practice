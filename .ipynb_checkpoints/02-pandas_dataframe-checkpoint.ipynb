{
 "cells": [
  {
   "cell_type": "markdown",
   "metadata": {},
   "source": [
    "### https://www.kaggle.com/cityofLA/los-angeles-city-population-2010"
   ]
  },
  {
   "cell_type": "code",
   "execution_count": 1,
   "metadata": {},
   "outputs": [],
   "source": [
    "import pandas as pd"
   ]
  },
  {
   "cell_type": "code",
   "execution_count": 2,
   "metadata": {},
   "outputs": [
    {
     "data": {
      "text/html": [
       "<div>\n",
       "<style scoped>\n",
       "    .dataframe tbody tr th:only-of-type {\n",
       "        vertical-align: middle;\n",
       "    }\n",
       "\n",
       "    .dataframe tbody tr th {\n",
       "        vertical-align: top;\n",
       "    }\n",
       "\n",
       "    .dataframe thead th {\n",
       "        text-align: right;\n",
       "    }\n",
       "</style>\n",
       "<table border=\"1\" class=\"dataframe\">\n",
       "  <thead>\n",
       "    <tr style=\"text-align: right;\">\n",
       "      <th></th>\n",
       "      <th>Zip Code</th>\n",
       "      <th>Total Population</th>\n",
       "      <th>Median Age</th>\n",
       "      <th>Total Males</th>\n",
       "      <th>Total Females</th>\n",
       "      <th>Total Households</th>\n",
       "      <th>Average Household Size</th>\n",
       "    </tr>\n",
       "  </thead>\n",
       "  <tbody>\n",
       "    <tr>\n",
       "      <th>0</th>\n",
       "      <td>91371</td>\n",
       "      <td>1</td>\n",
       "      <td>73.5</td>\n",
       "      <td>0</td>\n",
       "      <td>1</td>\n",
       "      <td>1</td>\n",
       "      <td>1.00</td>\n",
       "    </tr>\n",
       "    <tr>\n",
       "      <th>1</th>\n",
       "      <td>90001</td>\n",
       "      <td>57110</td>\n",
       "      <td>26.6</td>\n",
       "      <td>28468</td>\n",
       "      <td>28642</td>\n",
       "      <td>12971</td>\n",
       "      <td>4.40</td>\n",
       "    </tr>\n",
       "    <tr>\n",
       "      <th>2</th>\n",
       "      <td>90002</td>\n",
       "      <td>51223</td>\n",
       "      <td>25.5</td>\n",
       "      <td>24876</td>\n",
       "      <td>26347</td>\n",
       "      <td>11731</td>\n",
       "      <td>4.36</td>\n",
       "    </tr>\n",
       "    <tr>\n",
       "      <th>3</th>\n",
       "      <td>90003</td>\n",
       "      <td>66266</td>\n",
       "      <td>26.3</td>\n",
       "      <td>32631</td>\n",
       "      <td>33635</td>\n",
       "      <td>15642</td>\n",
       "      <td>4.22</td>\n",
       "    </tr>\n",
       "    <tr>\n",
       "      <th>4</th>\n",
       "      <td>90004</td>\n",
       "      <td>62180</td>\n",
       "      <td>34.8</td>\n",
       "      <td>31302</td>\n",
       "      <td>30878</td>\n",
       "      <td>22547</td>\n",
       "      <td>2.73</td>\n",
       "    </tr>\n",
       "  </tbody>\n",
       "</table>\n",
       "</div>"
      ],
      "text/plain": [
       "   Zip Code  Total Population  Median Age  Total Males  Total Females  \\\n",
       "0     91371                 1        73.5            0              1   \n",
       "1     90001             57110        26.6        28468          28642   \n",
       "2     90002             51223        25.5        24876          26347   \n",
       "3     90003             66266        26.3        32631          33635   \n",
       "4     90004             62180        34.8        31302          30878   \n",
       "\n",
       "   Total Households  Average Household Size  \n",
       "0                 1                    1.00  \n",
       "1             12971                    4.40  \n",
       "2             11731                    4.36  \n",
       "3             15642                    4.22  \n",
       "4             22547                    2.73  "
      ]
     },
     "execution_count": 2,
     "metadata": {},
     "output_type": "execute_result"
    }
   ],
   "source": [
    "uri = 'https://gist.githubusercontent.com/urwinday/7bab67534bc79fd9a1096df22f8b0eac/raw/fab8cd85e07a4def1177ddfb2c55a57825993cef/2010_Census_Populations_by_Zip_Code.csv'\n",
    "population_df = pd.read_csv(uri)\n",
    "population_df.head()"
   ]
  },
  {
   "cell_type": "code",
   "execution_count": 3,
   "metadata": {},
   "outputs": [],
   "source": [
    "population_df.columns = ['Zip_Code', 'Total_Population', 'Median_Age', \n",
    "                         'Total_Males','Total_Females', 'Total_Households', 'Average_Household_Size' ]\n"
   ]
  },
  {
   "cell_type": "code",
   "execution_count": 4,
   "metadata": {},
   "outputs": [
    {
     "data": {
      "text/plain": [
       "Index(['Zip_Code', 'Total_Population', 'Median_Age', 'Total_Males',\n",
       "       'Total_Females', 'Total_Households', 'Average_Household_Size'],\n",
       "      dtype='object')"
      ]
     },
     "execution_count": 4,
     "metadata": {},
     "output_type": "execute_result"
    }
   ],
   "source": [
    "population_df.columns"
   ]
  },
  {
   "cell_type": "code",
   "execution_count": 5,
   "metadata": {},
   "outputs": [
    {
     "data": {
      "text/plain": [
       "Zip_Code                    int64\n",
       "Total_Population            int64\n",
       "Median_Age                float64\n",
       "Total_Males                 int64\n",
       "Total_Females               int64\n",
       "Total_Households            int64\n",
       "Average_Household_Size    float64\n",
       "dtype: object"
      ]
     },
     "execution_count": 5,
     "metadata": {},
     "output_type": "execute_result"
    }
   ],
   "source": [
    "population_df.dtypes"
   ]
  },
  {
   "cell_type": "code",
   "execution_count": 6,
   "metadata": {},
   "outputs": [
    {
     "name": "stdout",
     "output_type": "stream",
     "text": [
      "<class 'pandas.core.frame.DataFrame'>\n",
      "RangeIndex: 319 entries, 0 to 318\n",
      "Data columns (total 7 columns):\n",
      "Zip_Code                  319 non-null int64\n",
      "Total_Population          319 non-null int64\n",
      "Median_Age                319 non-null float64\n",
      "Total_Males               319 non-null int64\n",
      "Total_Females             319 non-null int64\n",
      "Total_Households          319 non-null int64\n",
      "Average_Household_Size    319 non-null float64\n",
      "dtypes: float64(2), int64(5)\n",
      "memory usage: 17.5 KB\n"
     ]
    }
   ],
   "source": [
    "population_df.info()"
   ]
  },
  {
   "cell_type": "code",
   "execution_count": 7,
   "metadata": {},
   "outputs": [
    {
     "data": {
      "text/html": [
       "<div>\n",
       "<style scoped>\n",
       "    .dataframe tbody tr th:only-of-type {\n",
       "        vertical-align: middle;\n",
       "    }\n",
       "\n",
       "    .dataframe tbody tr th {\n",
       "        vertical-align: top;\n",
       "    }\n",
       "\n",
       "    .dataframe thead th {\n",
       "        text-align: right;\n",
       "    }\n",
       "</style>\n",
       "<table border=\"1\" class=\"dataframe\">\n",
       "  <thead>\n",
       "    <tr style=\"text-align: right;\">\n",
       "      <th></th>\n",
       "      <th>count</th>\n",
       "      <th>mean</th>\n",
       "      <th>std</th>\n",
       "      <th>min</th>\n",
       "      <th>25%</th>\n",
       "      <th>50%</th>\n",
       "      <th>75%</th>\n",
       "      <th>max</th>\n",
       "    </tr>\n",
       "  </thead>\n",
       "  <tbody>\n",
       "    <tr>\n",
       "      <th>Zip_Code</th>\n",
       "      <td>319.0</td>\n",
       "      <td>91000.673981</td>\n",
       "      <td>908.360203</td>\n",
       "      <td>90001.0</td>\n",
       "      <td>90243.500</td>\n",
       "      <td>90807.00</td>\n",
       "      <td>91417.00</td>\n",
       "      <td>93591.00</td>\n",
       "    </tr>\n",
       "    <tr>\n",
       "      <th>Total_Population</th>\n",
       "      <td>319.0</td>\n",
       "      <td>33241.341693</td>\n",
       "      <td>21644.417455</td>\n",
       "      <td>0.0</td>\n",
       "      <td>19318.500</td>\n",
       "      <td>31481.00</td>\n",
       "      <td>44978.00</td>\n",
       "      <td>105549.00</td>\n",
       "    </tr>\n",
       "    <tr>\n",
       "      <th>Median_Age</th>\n",
       "      <td>319.0</td>\n",
       "      <td>36.527586</td>\n",
       "      <td>8.692999</td>\n",
       "      <td>0.0</td>\n",
       "      <td>32.400</td>\n",
       "      <td>37.10</td>\n",
       "      <td>41.00</td>\n",
       "      <td>74.00</td>\n",
       "    </tr>\n",
       "    <tr>\n",
       "      <th>Total_Males</th>\n",
       "      <td>319.0</td>\n",
       "      <td>16391.564263</td>\n",
       "      <td>10747.495566</td>\n",
       "      <td>0.0</td>\n",
       "      <td>9763.500</td>\n",
       "      <td>15283.00</td>\n",
       "      <td>22219.50</td>\n",
       "      <td>52794.00</td>\n",
       "    </tr>\n",
       "    <tr>\n",
       "      <th>Total_Females</th>\n",
       "      <td>319.0</td>\n",
       "      <td>16849.777429</td>\n",
       "      <td>10934.986468</td>\n",
       "      <td>0.0</td>\n",
       "      <td>9633.500</td>\n",
       "      <td>16202.00</td>\n",
       "      <td>22690.50</td>\n",
       "      <td>53185.00</td>\n",
       "    </tr>\n",
       "    <tr>\n",
       "      <th>Total_Households</th>\n",
       "      <td>319.0</td>\n",
       "      <td>10964.570533</td>\n",
       "      <td>6270.646400</td>\n",
       "      <td>0.0</td>\n",
       "      <td>6765.500</td>\n",
       "      <td>10968.00</td>\n",
       "      <td>14889.50</td>\n",
       "      <td>31087.00</td>\n",
       "    </tr>\n",
       "    <tr>\n",
       "      <th>Average_Household_Size</th>\n",
       "      <td>319.0</td>\n",
       "      <td>2.828119</td>\n",
       "      <td>0.835658</td>\n",
       "      <td>0.0</td>\n",
       "      <td>2.435</td>\n",
       "      <td>2.83</td>\n",
       "      <td>3.32</td>\n",
       "      <td>4.67</td>\n",
       "    </tr>\n",
       "  </tbody>\n",
       "</table>\n",
       "</div>"
      ],
      "text/plain": [
       "                        count          mean           std      min        25%  \\\n",
       "Zip_Code                319.0  91000.673981    908.360203  90001.0  90243.500   \n",
       "Total_Population        319.0  33241.341693  21644.417455      0.0  19318.500   \n",
       "Median_Age              319.0     36.527586      8.692999      0.0     32.400   \n",
       "Total_Males             319.0  16391.564263  10747.495566      0.0   9763.500   \n",
       "Total_Females           319.0  16849.777429  10934.986468      0.0   9633.500   \n",
       "Total_Households        319.0  10964.570533   6270.646400      0.0   6765.500   \n",
       "Average_Household_Size  319.0      2.828119      0.835658      0.0      2.435   \n",
       "\n",
       "                             50%       75%        max  \n",
       "Zip_Code                90807.00  91417.00   93591.00  \n",
       "Total_Population        31481.00  44978.00  105549.00  \n",
       "Median_Age                 37.10     41.00      74.00  \n",
       "Total_Males             15283.00  22219.50   52794.00  \n",
       "Total_Females           16202.00  22690.50   53185.00  \n",
       "Total_Households        10968.00  14889.50   31087.00  \n",
       "Average_Household_Size      2.83      3.32       4.67  "
      ]
     },
     "execution_count": 7,
     "metadata": {},
     "output_type": "execute_result"
    }
   ],
   "source": [
    "population_df.describe().T"
   ]
  },
  {
   "cell_type": "markdown",
   "metadata": {},
   "source": [
    "**Считываем значение конкретной ячейки (с конкретным индексом из конкретной колонки)**"
   ]
  },
  {
   "cell_type": "code",
   "execution_count": 8,
   "metadata": {},
   "outputs": [
    {
     "data": {
      "text/plain": [
       "57110"
      ]
     },
     "execution_count": 8,
     "metadata": {},
     "output_type": "execute_result"
    }
   ],
   "source": [
    "population_df.loc[1, 'Total_Population']"
   ]
  },
  {
   "cell_type": "code",
   "execution_count": 9,
   "metadata": {},
   "outputs": [
    {
     "data": {
      "text/plain": [
       "91371"
      ]
     },
     "execution_count": 9,
     "metadata": {},
     "output_type": "execute_result"
    }
   ],
   "source": [
    "population_df.iloc[0, 0]"
   ]
  },
  {
   "cell_type": "markdown",
   "metadata": {},
   "source": [
    "**Фильтрация строк по диапазону индекса**"
   ]
  },
  {
   "cell_type": "code",
   "execution_count": 10,
   "metadata": {},
   "outputs": [
    {
     "data": {
      "text/html": [
       "<div>\n",
       "<style scoped>\n",
       "    .dataframe tbody tr th:only-of-type {\n",
       "        vertical-align: middle;\n",
       "    }\n",
       "\n",
       "    .dataframe tbody tr th {\n",
       "        vertical-align: top;\n",
       "    }\n",
       "\n",
       "    .dataframe thead th {\n",
       "        text-align: right;\n",
       "    }\n",
       "</style>\n",
       "<table border=\"1\" class=\"dataframe\">\n",
       "  <thead>\n",
       "    <tr style=\"text-align: right;\">\n",
       "      <th></th>\n",
       "      <th>Zip_Code</th>\n",
       "      <th>Total_Population</th>\n",
       "      <th>Median_Age</th>\n",
       "      <th>Total_Males</th>\n",
       "      <th>Total_Females</th>\n",
       "      <th>Total_Households</th>\n",
       "      <th>Average_Household_Size</th>\n",
       "    </tr>\n",
       "  </thead>\n",
       "  <tbody>\n",
       "    <tr>\n",
       "      <th>3</th>\n",
       "      <td>90003</td>\n",
       "      <td>66266</td>\n",
       "      <td>26.3</td>\n",
       "      <td>32631</td>\n",
       "      <td>33635</td>\n",
       "      <td>15642</td>\n",
       "      <td>4.22</td>\n",
       "    </tr>\n",
       "    <tr>\n",
       "      <th>4</th>\n",
       "      <td>90004</td>\n",
       "      <td>62180</td>\n",
       "      <td>34.8</td>\n",
       "      <td>31302</td>\n",
       "      <td>30878</td>\n",
       "      <td>22547</td>\n",
       "      <td>2.73</td>\n",
       "    </tr>\n",
       "    <tr>\n",
       "      <th>5</th>\n",
       "      <td>90005</td>\n",
       "      <td>37681</td>\n",
       "      <td>33.9</td>\n",
       "      <td>19299</td>\n",
       "      <td>18382</td>\n",
       "      <td>15044</td>\n",
       "      <td>2.50</td>\n",
       "    </tr>\n",
       "    <tr>\n",
       "      <th>6</th>\n",
       "      <td>90006</td>\n",
       "      <td>59185</td>\n",
       "      <td>32.4</td>\n",
       "      <td>30254</td>\n",
       "      <td>28931</td>\n",
       "      <td>18617</td>\n",
       "      <td>3.13</td>\n",
       "    </tr>\n",
       "    <tr>\n",
       "      <th>7</th>\n",
       "      <td>90007</td>\n",
       "      <td>40920</td>\n",
       "      <td>24.0</td>\n",
       "      <td>20915</td>\n",
       "      <td>20005</td>\n",
       "      <td>11944</td>\n",
       "      <td>3.00</td>\n",
       "    </tr>\n",
       "    <tr>\n",
       "      <th>8</th>\n",
       "      <td>90008</td>\n",
       "      <td>32327</td>\n",
       "      <td>39.7</td>\n",
       "      <td>14477</td>\n",
       "      <td>17850</td>\n",
       "      <td>13841</td>\n",
       "      <td>2.33</td>\n",
       "    </tr>\n",
       "  </tbody>\n",
       "</table>\n",
       "</div>"
      ],
      "text/plain": [
       "   Zip_Code  Total_Population  Median_Age  Total_Males  Total_Females  \\\n",
       "3     90003             66266        26.3        32631          33635   \n",
       "4     90004             62180        34.8        31302          30878   \n",
       "5     90005             37681        33.9        19299          18382   \n",
       "6     90006             59185        32.4        30254          28931   \n",
       "7     90007             40920        24.0        20915          20005   \n",
       "8     90008             32327        39.7        14477          17850   \n",
       "\n",
       "   Total_Households  Average_Household_Size  \n",
       "3             15642                    4.22  \n",
       "4             22547                    2.73  \n",
       "5             15044                    2.50  \n",
       "6             18617                    3.13  \n",
       "7             11944                    3.00  \n",
       "8             13841                    2.33  "
      ]
     },
     "execution_count": 10,
     "metadata": {},
     "output_type": "execute_result"
    }
   ],
   "source": [
    "population_df.loc[3:8]"
   ]
  },
  {
   "cell_type": "markdown",
   "metadata": {},
   "source": [
    "**Фильтрация данных по какому-либо условию**\n",
    " - Median_Age < 20 \n",
    " - and\n",
    " - Median_Age != 0"
   ]
  },
  {
   "cell_type": "code",
   "execution_count": 11,
   "metadata": {},
   "outputs": [
    {
     "data": {
      "text/html": [
       "<div>\n",
       "<style scoped>\n",
       "    .dataframe tbody tr th:only-of-type {\n",
       "        vertical-align: middle;\n",
       "    }\n",
       "\n",
       "    .dataframe tbody tr th {\n",
       "        vertical-align: top;\n",
       "    }\n",
       "\n",
       "    .dataframe thead th {\n",
       "        text-align: right;\n",
       "    }\n",
       "</style>\n",
       "<table border=\"1\" class=\"dataframe\">\n",
       "  <thead>\n",
       "    <tr style=\"text-align: right;\">\n",
       "      <th></th>\n",
       "      <th>Zip_Code</th>\n",
       "      <th>Total_Population</th>\n",
       "      <th>Median_Age</th>\n",
       "      <th>Total_Males</th>\n",
       "      <th>Total_Females</th>\n",
       "      <th>Total_Households</th>\n",
       "      <th>Average_Household_Size</th>\n",
       "    </tr>\n",
       "  </thead>\n",
       "  <tbody>\n",
       "    <tr>\n",
       "      <th>65</th>\n",
       "      <td>90089</td>\n",
       "      <td>3217</td>\n",
       "      <td>19.3</td>\n",
       "      <td>1436</td>\n",
       "      <td>1781</td>\n",
       "      <td>31</td>\n",
       "      <td>1.94</td>\n",
       "    </tr>\n",
       "    <tr>\n",
       "      <th>90</th>\n",
       "      <td>90263</td>\n",
       "      <td>1612</td>\n",
       "      <td>19.7</td>\n",
       "      <td>665</td>\n",
       "      <td>947</td>\n",
       "      <td>0</td>\n",
       "      <td>0.00</td>\n",
       "    </tr>\n",
       "    <tr>\n",
       "      <th>210</th>\n",
       "      <td>91330</td>\n",
       "      <td>2702</td>\n",
       "      <td>19.6</td>\n",
       "      <td>1103</td>\n",
       "      <td>1599</td>\n",
       "      <td>2</td>\n",
       "      <td>2.50</td>\n",
       "    </tr>\n",
       "  </tbody>\n",
       "</table>\n",
       "</div>"
      ],
      "text/plain": [
       "     Zip_Code  Total_Population  Median_Age  Total_Males  Total_Females  \\\n",
       "65      90089              3217        19.3         1436           1781   \n",
       "90      90263              1612        19.7          665            947   \n",
       "210     91330              2702        19.6         1103           1599   \n",
       "\n",
       "     Total_Households  Average_Household_Size  \n",
       "65                 31                    1.94  \n",
       "90                  0                    0.00  \n",
       "210                 2                    2.50  "
      ]
     },
     "execution_count": 11,
     "metadata": {},
     "output_type": "execute_result"
    }
   ],
   "source": [
    "population_df[(population_df.Median_Age < 20)&(population_df.Median_Age != 0)]"
   ]
  },
  {
   "cell_type": "code",
   "execution_count": 12,
   "metadata": {},
   "outputs": [
    {
     "data": {
      "text/html": [
       "<div>\n",
       "<style scoped>\n",
       "    .dataframe tbody tr th:only-of-type {\n",
       "        vertical-align: middle;\n",
       "    }\n",
       "\n",
       "    .dataframe tbody tr th {\n",
       "        vertical-align: top;\n",
       "    }\n",
       "\n",
       "    .dataframe thead th {\n",
       "        text-align: right;\n",
       "    }\n",
       "</style>\n",
       "<table border=\"1\" class=\"dataframe\">\n",
       "  <thead>\n",
       "    <tr style=\"text-align: right;\">\n",
       "      <th></th>\n",
       "      <th>Zip_Code</th>\n",
       "      <th>Total_Population</th>\n",
       "      <th>Median_Age</th>\n",
       "      <th>Total_Males</th>\n",
       "      <th>Total_Females</th>\n",
       "      <th>Total_Households</th>\n",
       "      <th>Average_Household_Size</th>\n",
       "    </tr>\n",
       "  </thead>\n",
       "  <tbody>\n",
       "    <tr>\n",
       "      <th>0</th>\n",
       "      <td>91371</td>\n",
       "      <td>1</td>\n",
       "      <td>73.5</td>\n",
       "      <td>0</td>\n",
       "      <td>1</td>\n",
       "      <td>1</td>\n",
       "      <td>1.0</td>\n",
       "    </tr>\n",
       "    <tr>\n",
       "      <th>68</th>\n",
       "      <td>90095</td>\n",
       "      <td>3</td>\n",
       "      <td>52.5</td>\n",
       "      <td>2</td>\n",
       "      <td>1</td>\n",
       "      <td>2</td>\n",
       "      <td>1.5</td>\n",
       "    </tr>\n",
       "  </tbody>\n",
       "</table>\n",
       "</div>"
      ],
      "text/plain": [
       "    Zip_Code  Total_Population  Median_Age  Total_Males  Total_Females  \\\n",
       "0      91371                 1        73.5            0              1   \n",
       "68     90095                 3        52.5            2              1   \n",
       "\n",
       "    Total_Households  Average_Household_Size  \n",
       "0                  1                     1.0  \n",
       "68                 2                     1.5  "
      ]
     },
     "execution_count": 12,
     "metadata": {},
     "output_type": "execute_result"
    }
   ],
   "source": [
    "population_df[(population_df.Total_Population <= 3)&(population_df.Total_Population != 0)]"
   ]
  },
  {
   "cell_type": "markdown",
   "metadata": {},
   "source": [
    "**Работа с пропущенными значениями (если они есть): **\n",
    "- удаление строк с пропущенными значениями, \n",
    "- либо заполнение пропущенных значений средним значением по колонке."
   ]
  },
  {
   "cell_type": "code",
   "execution_count": 13,
   "metadata": {},
   "outputs": [],
   "source": [
    "population_df.Total_Households.fillna(0, inplace=True)"
   ]
  },
  {
   "cell_type": "markdown",
   "metadata": {},
   "source": [
    "\n",
    "**Создание нового поля, вычисленного на основе значений других полей (через выражение на базе имеющихся колонок, либо через df.apply)**\n",
    "\n",
    "- добавили столбец: процентное отношение мужчин к общему количеству населения по районам.\n"
   ]
  },
  {
   "cell_type": "code",
   "execution_count": 14,
   "metadata": {},
   "outputs": [],
   "source": [
    "# добавили столбец\n",
    "population_df['New_Males_Population'] = population_df['Total_Males']/population_df['Total_Population']*100"
   ]
  },
  {
   "cell_type": "code",
   "execution_count": 15,
   "metadata": {},
   "outputs": [
    {
     "data": {
      "text/html": [
       "<div>\n",
       "<style scoped>\n",
       "    .dataframe tbody tr th:only-of-type {\n",
       "        vertical-align: middle;\n",
       "    }\n",
       "\n",
       "    .dataframe tbody tr th {\n",
       "        vertical-align: top;\n",
       "    }\n",
       "\n",
       "    .dataframe thead th {\n",
       "        text-align: right;\n",
       "    }\n",
       "</style>\n",
       "<table border=\"1\" class=\"dataframe\">\n",
       "  <thead>\n",
       "    <tr style=\"text-align: right;\">\n",
       "      <th></th>\n",
       "      <th>Zip_Code</th>\n",
       "      <th>Total_Population</th>\n",
       "      <th>Median_Age</th>\n",
       "      <th>Total_Males</th>\n",
       "      <th>Total_Females</th>\n",
       "      <th>Total_Households</th>\n",
       "      <th>Average_Household_Size</th>\n",
       "      <th>New_Males_Population</th>\n",
       "    </tr>\n",
       "  </thead>\n",
       "  <tbody>\n",
       "    <tr>\n",
       "      <th>0</th>\n",
       "      <td>91371</td>\n",
       "      <td>1</td>\n",
       "      <td>73.5</td>\n",
       "      <td>0</td>\n",
       "      <td>1</td>\n",
       "      <td>1</td>\n",
       "      <td>1.00</td>\n",
       "      <td>0.000000</td>\n",
       "    </tr>\n",
       "    <tr>\n",
       "      <th>1</th>\n",
       "      <td>90001</td>\n",
       "      <td>57110</td>\n",
       "      <td>26.6</td>\n",
       "      <td>28468</td>\n",
       "      <td>28642</td>\n",
       "      <td>12971</td>\n",
       "      <td>4.40</td>\n",
       "      <td>49.847662</td>\n",
       "    </tr>\n",
       "    <tr>\n",
       "      <th>2</th>\n",
       "      <td>90002</td>\n",
       "      <td>51223</td>\n",
       "      <td>25.5</td>\n",
       "      <td>24876</td>\n",
       "      <td>26347</td>\n",
       "      <td>11731</td>\n",
       "      <td>4.36</td>\n",
       "      <td>48.564122</td>\n",
       "    </tr>\n",
       "    <tr>\n",
       "      <th>3</th>\n",
       "      <td>90003</td>\n",
       "      <td>66266</td>\n",
       "      <td>26.3</td>\n",
       "      <td>32631</td>\n",
       "      <td>33635</td>\n",
       "      <td>15642</td>\n",
       "      <td>4.22</td>\n",
       "      <td>49.242447</td>\n",
       "    </tr>\n",
       "    <tr>\n",
       "      <th>4</th>\n",
       "      <td>90004</td>\n",
       "      <td>62180</td>\n",
       "      <td>34.8</td>\n",
       "      <td>31302</td>\n",
       "      <td>30878</td>\n",
       "      <td>22547</td>\n",
       "      <td>2.73</td>\n",
       "      <td>50.340946</td>\n",
       "    </tr>\n",
       "    <tr>\n",
       "      <th>5</th>\n",
       "      <td>90005</td>\n",
       "      <td>37681</td>\n",
       "      <td>33.9</td>\n",
       "      <td>19299</td>\n",
       "      <td>18382</td>\n",
       "      <td>15044</td>\n",
       "      <td>2.50</td>\n",
       "      <td>51.216794</td>\n",
       "    </tr>\n",
       "    <tr>\n",
       "      <th>6</th>\n",
       "      <td>90006</td>\n",
       "      <td>59185</td>\n",
       "      <td>32.4</td>\n",
       "      <td>30254</td>\n",
       "      <td>28931</td>\n",
       "      <td>18617</td>\n",
       "      <td>3.13</td>\n",
       "      <td>51.117682</td>\n",
       "    </tr>\n",
       "    <tr>\n",
       "      <th>7</th>\n",
       "      <td>90007</td>\n",
       "      <td>40920</td>\n",
       "      <td>24.0</td>\n",
       "      <td>20915</td>\n",
       "      <td>20005</td>\n",
       "      <td>11944</td>\n",
       "      <td>3.00</td>\n",
       "      <td>51.111926</td>\n",
       "    </tr>\n",
       "    <tr>\n",
       "      <th>8</th>\n",
       "      <td>90008</td>\n",
       "      <td>32327</td>\n",
       "      <td>39.7</td>\n",
       "      <td>14477</td>\n",
       "      <td>17850</td>\n",
       "      <td>13841</td>\n",
       "      <td>2.33</td>\n",
       "      <td>44.782999</td>\n",
       "    </tr>\n",
       "    <tr>\n",
       "      <th>9</th>\n",
       "      <td>90010</td>\n",
       "      <td>3800</td>\n",
       "      <td>37.8</td>\n",
       "      <td>1874</td>\n",
       "      <td>1926</td>\n",
       "      <td>2014</td>\n",
       "      <td>1.87</td>\n",
       "      <td>49.315789</td>\n",
       "    </tr>\n",
       "  </tbody>\n",
       "</table>\n",
       "</div>"
      ],
      "text/plain": [
       "   Zip_Code  Total_Population  Median_Age  Total_Males  Total_Females  \\\n",
       "0     91371                 1        73.5            0              1   \n",
       "1     90001             57110        26.6        28468          28642   \n",
       "2     90002             51223        25.5        24876          26347   \n",
       "3     90003             66266        26.3        32631          33635   \n",
       "4     90004             62180        34.8        31302          30878   \n",
       "5     90005             37681        33.9        19299          18382   \n",
       "6     90006             59185        32.4        30254          28931   \n",
       "7     90007             40920        24.0        20915          20005   \n",
       "8     90008             32327        39.7        14477          17850   \n",
       "9     90010              3800        37.8         1874           1926   \n",
       "\n",
       "   Total_Households  Average_Household_Size  New_Males_Population  \n",
       "0                 1                    1.00              0.000000  \n",
       "1             12971                    4.40             49.847662  \n",
       "2             11731                    4.36             48.564122  \n",
       "3             15642                    4.22             49.242447  \n",
       "4             22547                    2.73             50.340946  \n",
       "5             15044                    2.50             51.216794  \n",
       "6             18617                    3.13             51.117682  \n",
       "7             11944                    3.00             51.111926  \n",
       "8             13841                    2.33             44.782999  \n",
       "9              2014                    1.87             49.315789  "
      ]
     },
     "execution_count": 15,
     "metadata": {},
     "output_type": "execute_result"
    }
   ],
   "source": [
    "population_df.head(10)"
   ]
  },
  {
   "cell_type": "markdown",
   "metadata": {},
   "source": [
    "**Cортировка по какому-либо из полей**\n",
    " - первые 15 записей"
   ]
  },
  {
   "cell_type": "code",
   "execution_count": 16,
   "metadata": {},
   "outputs": [
    {
     "data": {
      "text/html": [
       "<div>\n",
       "<style scoped>\n",
       "    .dataframe tbody tr th:only-of-type {\n",
       "        vertical-align: middle;\n",
       "    }\n",
       "\n",
       "    .dataframe tbody tr th {\n",
       "        vertical-align: top;\n",
       "    }\n",
       "\n",
       "    .dataframe thead th {\n",
       "        text-align: right;\n",
       "    }\n",
       "</style>\n",
       "<table border=\"1\" class=\"dataframe\">\n",
       "  <thead>\n",
       "    <tr style=\"text-align: right;\">\n",
       "      <th></th>\n",
       "      <th>Zip_Code</th>\n",
       "      <th>Total_Population</th>\n",
       "      <th>Median_Age</th>\n",
       "      <th>Total_Males</th>\n",
       "      <th>Total_Females</th>\n",
       "      <th>Total_Households</th>\n",
       "      <th>Average_Household_Size</th>\n",
       "      <th>New_Males_Population</th>\n",
       "    </tr>\n",
       "  </thead>\n",
       "  <tbody>\n",
       "    <tr>\n",
       "      <th>132</th>\n",
       "      <td>90650</td>\n",
       "      <td>105549</td>\n",
       "      <td>32.5</td>\n",
       "      <td>52364</td>\n",
       "      <td>53185</td>\n",
       "      <td>27130</td>\n",
       "      <td>3.83</td>\n",
       "      <td>49.611081</td>\n",
       "    </tr>\n",
       "    <tr>\n",
       "      <th>10</th>\n",
       "      <td>90011</td>\n",
       "      <td>103892</td>\n",
       "      <td>26.2</td>\n",
       "      <td>52794</td>\n",
       "      <td>51098</td>\n",
       "      <td>22168</td>\n",
       "      <td>4.67</td>\n",
       "      <td>50.816232</td>\n",
       "    </tr>\n",
       "    <tr>\n",
       "      <th>211</th>\n",
       "      <td>91331</td>\n",
       "      <td>103689</td>\n",
       "      <td>29.5</td>\n",
       "      <td>52358</td>\n",
       "      <td>51331</td>\n",
       "      <td>22465</td>\n",
       "      <td>4.60</td>\n",
       "      <td>50.495231</td>\n",
       "    </tr>\n",
       "    <tr>\n",
       "      <th>69</th>\n",
       "      <td>90201</td>\n",
       "      <td>101279</td>\n",
       "      <td>27.8</td>\n",
       "      <td>50658</td>\n",
       "      <td>50621</td>\n",
       "      <td>24104</td>\n",
       "      <td>4.16</td>\n",
       "      <td>50.018266</td>\n",
       "    </tr>\n",
       "    <tr>\n",
       "      <th>99</th>\n",
       "      <td>90280</td>\n",
       "      <td>94396</td>\n",
       "      <td>29.4</td>\n",
       "      <td>46321</td>\n",
       "      <td>48075</td>\n",
       "      <td>23278</td>\n",
       "      <td>4.05</td>\n",
       "      <td>49.070935</td>\n",
       "    </tr>\n",
       "    <tr>\n",
       "      <th>158</th>\n",
       "      <td>90805</td>\n",
       "      <td>93524</td>\n",
       "      <td>29.0</td>\n",
       "      <td>45229</td>\n",
       "      <td>48295</td>\n",
       "      <td>26056</td>\n",
       "      <td>3.56</td>\n",
       "      <td>48.360849</td>\n",
       "    </tr>\n",
       "    <tr>\n",
       "      <th>85</th>\n",
       "      <td>90250</td>\n",
       "      <td>93193</td>\n",
       "      <td>31.9</td>\n",
       "      <td>45113</td>\n",
       "      <td>48080</td>\n",
       "      <td>31087</td>\n",
       "      <td>2.98</td>\n",
       "      <td>48.408142</td>\n",
       "    </tr>\n",
       "    <tr>\n",
       "      <th>214</th>\n",
       "      <td>91342</td>\n",
       "      <td>91725</td>\n",
       "      <td>31.9</td>\n",
       "      <td>45786</td>\n",
       "      <td>45939</td>\n",
       "      <td>23543</td>\n",
       "      <td>3.83</td>\n",
       "      <td>49.916599</td>\n",
       "    </tr>\n",
       "    <tr>\n",
       "      <th>42</th>\n",
       "      <td>90044</td>\n",
       "      <td>89779</td>\n",
       "      <td>28.6</td>\n",
       "      <td>43128</td>\n",
       "      <td>46651</td>\n",
       "      <td>25144</td>\n",
       "      <td>3.55</td>\n",
       "      <td>48.037960</td>\n",
       "    </tr>\n",
       "    <tr>\n",
       "      <th>266</th>\n",
       "      <td>91744</td>\n",
       "      <td>85040</td>\n",
       "      <td>30.9</td>\n",
       "      <td>42564</td>\n",
       "      <td>42476</td>\n",
       "      <td>18648</td>\n",
       "      <td>4.55</td>\n",
       "      <td>50.051740</td>\n",
       "    </tr>\n",
       "    <tr>\n",
       "      <th>256</th>\n",
       "      <td>91710</td>\n",
       "      <td>80358</td>\n",
       "      <td>33.0</td>\n",
       "      <td>42283</td>\n",
       "      <td>38075</td>\n",
       "      <td>21952</td>\n",
       "      <td>3.43</td>\n",
       "      <td>52.618283</td>\n",
       "    </tr>\n",
       "    <tr>\n",
       "      <th>138</th>\n",
       "      <td>90706</td>\n",
       "      <td>76615</td>\n",
       "      <td>31.9</td>\n",
       "      <td>37203</td>\n",
       "      <td>39412</td>\n",
       "      <td>23650</td>\n",
       "      <td>3.21</td>\n",
       "      <td>48.558376</td>\n",
       "    </tr>\n",
       "    <tr>\n",
       "      <th>254</th>\n",
       "      <td>91706</td>\n",
       "      <td>76571</td>\n",
       "      <td>30.5</td>\n",
       "      <td>37969</td>\n",
       "      <td>38602</td>\n",
       "      <td>17504</td>\n",
       "      <td>4.35</td>\n",
       "      <td>49.586658</td>\n",
       "    </tr>\n",
       "    <tr>\n",
       "      <th>87</th>\n",
       "      <td>90255</td>\n",
       "      <td>75066</td>\n",
       "      <td>29.1</td>\n",
       "      <td>37525</td>\n",
       "      <td>37541</td>\n",
       "      <td>18419</td>\n",
       "      <td>4.06</td>\n",
       "      <td>49.989343</td>\n",
       "    </tr>\n",
       "    <tr>\n",
       "      <th>312</th>\n",
       "      <td>93550</td>\n",
       "      <td>74929</td>\n",
       "      <td>27.5</td>\n",
       "      <td>36414</td>\n",
       "      <td>38515</td>\n",
       "      <td>20864</td>\n",
       "      <td>3.58</td>\n",
       "      <td>48.598006</td>\n",
       "    </tr>\n",
       "  </tbody>\n",
       "</table>\n",
       "</div>"
      ],
      "text/plain": [
       "     Zip_Code  Total_Population  Median_Age  Total_Males  Total_Females  \\\n",
       "132     90650            105549        32.5        52364          53185   \n",
       "10      90011            103892        26.2        52794          51098   \n",
       "211     91331            103689        29.5        52358          51331   \n",
       "69      90201            101279        27.8        50658          50621   \n",
       "99      90280             94396        29.4        46321          48075   \n",
       "158     90805             93524        29.0        45229          48295   \n",
       "85      90250             93193        31.9        45113          48080   \n",
       "214     91342             91725        31.9        45786          45939   \n",
       "42      90044             89779        28.6        43128          46651   \n",
       "266     91744             85040        30.9        42564          42476   \n",
       "256     91710             80358        33.0        42283          38075   \n",
       "138     90706             76615        31.9        37203          39412   \n",
       "254     91706             76571        30.5        37969          38602   \n",
       "87      90255             75066        29.1        37525          37541   \n",
       "312     93550             74929        27.5        36414          38515   \n",
       "\n",
       "     Total_Households  Average_Household_Size  New_Males_Population  \n",
       "132             27130                    3.83             49.611081  \n",
       "10              22168                    4.67             50.816232  \n",
       "211             22465                    4.60             50.495231  \n",
       "69              24104                    4.16             50.018266  \n",
       "99              23278                    4.05             49.070935  \n",
       "158             26056                    3.56             48.360849  \n",
       "85              31087                    2.98             48.408142  \n",
       "214             23543                    3.83             49.916599  \n",
       "42              25144                    3.55             48.037960  \n",
       "266             18648                    4.55             50.051740  \n",
       "256             21952                    3.43             52.618283  \n",
       "138             23650                    3.21             48.558376  \n",
       "254             17504                    4.35             49.586658  \n",
       "87              18419                    4.06             49.989343  \n",
       "312             20864                    3.58             48.598006  "
      ]
     },
     "execution_count": 16,
     "metadata": {},
     "output_type": "execute_result"
    }
   ],
   "source": [
    "population_df.sort_values(by = 'Total_Population', ascending=False).head(15)"
   ]
  },
  {
   "cell_type": "markdown",
   "metadata": {},
   "source": [
    "** Вычисление несколько статистик по колонкам (используем встроенные агрегатные функции)**"
   ]
  },
  {
   "cell_type": "code",
   "execution_count": 17,
   "metadata": {},
   "outputs": [
    {
     "data": {
      "text/plain": [
       "36.52758620689653"
      ]
     },
     "execution_count": 17,
     "metadata": {},
     "output_type": "execute_result"
    }
   ],
   "source": [
    "population_df.Median_Age.mean()"
   ]
  },
  {
   "cell_type": "code",
   "execution_count": 18,
   "metadata": {},
   "outputs": [
    {
     "data": {
      "text/plain": [
       "10603988"
      ]
     },
     "execution_count": 18,
     "metadata": {},
     "output_type": "execute_result"
    }
   ],
   "source": [
    "population_df.Total_Population.sum()"
   ]
  },
  {
   "cell_type": "code",
   "execution_count": 19,
   "metadata": {},
   "outputs": [
    {
     "data": {
      "text/plain": [
       "93.87755102040816"
      ]
     },
     "execution_count": 19,
     "metadata": {},
     "output_type": "execute_result"
    }
   ],
   "source": [
    "population_df.New_Males_Population.max()"
   ]
  },
  {
   "cell_type": "code",
   "execution_count": 20,
   "metadata": {},
   "outputs": [
    {
     "data": {
      "text/plain": [
       "2.83"
      ]
     },
     "execution_count": 20,
     "metadata": {},
     "output_type": "execute_result"
    }
   ],
   "source": [
    "population_df.Average_Household_Size.median()"
   ]
  },
  {
   "cell_type": "markdown",
   "metadata": {},
   "source": [
    "**Сводная таблица** \n",
    " - на основе группировки (.groupby)"
   ]
  },
  {
   "cell_type": "code",
   "execution_count": 21,
   "metadata": {},
   "outputs": [
    {
     "data": {
      "text/html": [
       "<div>\n",
       "<style scoped>\n",
       "    .dataframe tbody tr th:only-of-type {\n",
       "        vertical-align: middle;\n",
       "    }\n",
       "\n",
       "    .dataframe tbody tr th {\n",
       "        vertical-align: top;\n",
       "    }\n",
       "\n",
       "    .dataframe thead th {\n",
       "        text-align: right;\n",
       "    }\n",
       "</style>\n",
       "<table border=\"1\" class=\"dataframe\">\n",
       "  <thead>\n",
       "    <tr style=\"text-align: right;\">\n",
       "      <th></th>\n",
       "      <th>Total_Males</th>\n",
       "      <th>Total_Females</th>\n",
       "    </tr>\n",
       "    <tr>\n",
       "      <th>Total_Population</th>\n",
       "      <th></th>\n",
       "      <th></th>\n",
       "    </tr>\n",
       "  </thead>\n",
       "  <tbody>\n",
       "    <tr>\n",
       "      <th>0</th>\n",
       "      <td>0</td>\n",
       "      <td>0</td>\n",
       "    </tr>\n",
       "    <tr>\n",
       "      <th>1</th>\n",
       "      <td>0</td>\n",
       "      <td>1</td>\n",
       "    </tr>\n",
       "    <tr>\n",
       "      <th>3</th>\n",
       "      <td>2</td>\n",
       "      <td>1</td>\n",
       "    </tr>\n",
       "    <tr>\n",
       "      <th>15</th>\n",
       "      <td>13</td>\n",
       "      <td>2</td>\n",
       "    </tr>\n",
       "    <tr>\n",
       "      <th>117</th>\n",
       "      <td>109</td>\n",
       "      <td>8</td>\n",
       "    </tr>\n",
       "    <tr>\n",
       "      <th>156</th>\n",
       "      <td>51</td>\n",
       "      <td>105</td>\n",
       "    </tr>\n",
       "    <tr>\n",
       "      <th>328</th>\n",
       "      <td>162</td>\n",
       "      <td>166</td>\n",
       "    </tr>\n",
       "    <tr>\n",
       "      <th>388</th>\n",
       "      <td>263</td>\n",
       "      <td>125</td>\n",
       "    </tr>\n",
       "    <tr>\n",
       "      <th>476</th>\n",
       "      <td>239</td>\n",
       "      <td>237</td>\n",
       "    </tr>\n",
       "    <tr>\n",
       "      <th>539</th>\n",
       "      <td>506</td>\n",
       "      <td>33</td>\n",
       "    </tr>\n",
       "  </tbody>\n",
       "</table>\n",
       "</div>"
      ],
      "text/plain": [
       "                  Total_Males  Total_Females\n",
       "Total_Population                            \n",
       "0                           0              0\n",
       "1                           0              1\n",
       "3                           2              1\n",
       "15                         13              2\n",
       "117                       109              8\n",
       "156                        51            105\n",
       "328                       162            166\n",
       "388                       263            125\n",
       "476                       239            237\n",
       "539                       506             33"
      ]
     },
     "execution_count": 21,
     "metadata": {},
     "output_type": "execute_result"
    }
   ],
   "source": [
    "population_df[['Total_Population','Total_Males', 'Total_Females',]].groupby(['Total_Population']).sum().head(10)"
   ]
  },
  {
   "cell_type": "markdown",
   "metadata": {},
   "source": [
    "**Построение гистограммы распределения значений по любой из колонок **\n",
    " - Median_Age"
   ]
  },
  {
   "cell_type": "code",
   "execution_count": 23,
   "metadata": {},
   "outputs": [
    {
     "name": "stdout",
     "output_type": "stream",
     "text": [
      "[[<matplotlib.axes._subplots.AxesSubplot object at 0x0000000019BC20F0>]]\n"
     ]
    },
    {
     "data": {
      "image/png": "[encoded data removed]",
      "text/plain": [
       "<Figure size 432x288 with 1 Axes>"
      ]
     },
     "metadata": {},
     "output_type": "display_data"
    }
   ],
   "source": [
    "print(population_df.hist('Median_Age'));"
   ]
  },
  {
   "cell_type": "markdown",
   "metadata": {},
   "source": [
    "## .groupby"
   ]
  },
  {
   "cell_type": "markdown",
   "metadata": {},
   "source": [
    "В общем случае группировка данных в Pandas выглядит следующим образом:\n",
    "\n",
    "df.groupby(by=grouping_columns)[columns_to_show].function()\n",
    "\n",
    "1. К датафрейму применяется метод groupby, который разделяет данные по grouping_columns – признаку или набору признаков.\n",
    "2. Выбираем нужные нам столбцы (columns_to_show).\n",
    "3. К полученным группам применяется функция или несколько функций."
   ]
  },
  {
   "cell_type": "code",
   "execution_count": 24,
   "metadata": {},
   "outputs": [
    {
     "data": {
      "text/plain": [
       "Total_Females  Total_Males\n",
       "0              0              6\n",
       "1              0              1\n",
       "               2              1\n",
       "2              13             1\n",
       "8              109            1\n",
       "33             506            1\n",
       "105            51             1\n",
       "125            263            1\n",
       "166            162            1\n",
       "237            239            1\n",
       "Name: Zip_Code, dtype: int64"
      ]
     },
     "execution_count": 24,
     "metadata": {},
     "output_type": "execute_result"
    }
   ],
   "source": [
    "# в данном случае групировка позволила выявить количесто почтовых индексов без людей\n",
    "population_df.groupby(['Total_Females','Total_Males'])['Zip_Code'].count().head(10)"
   ]
  },
  {
   "cell_type": "code",
   "execution_count": 25,
   "metadata": {},
   "outputs": [
    {
     "data": {
      "text/plain": [
       "Zip_Code\n",
       "90001    28468\n",
       "90002    24876\n",
       "90003    32631\n",
       "90004    31302\n",
       "90005    19299\n",
       "Name: Total_Males, dtype: int64"
      ]
     },
     "execution_count": 25,
     "metadata": {},
     "output_type": "execute_result"
    }
   ],
   "source": [
    "population_df.groupby('Zip_Code')['Total_Males'].mean().head()"
   ]
  },
  {
   "cell_type": "code",
   "execution_count": 26,
   "metadata": {},
   "outputs": [
    {
     "data": {
      "text/html": [
       "<div>\n",
       "<style scoped>\n",
       "    .dataframe tbody tr th:only-of-type {\n",
       "        vertical-align: middle;\n",
       "    }\n",
       "\n",
       "    .dataframe tbody tr th {\n",
       "        vertical-align: top;\n",
       "    }\n",
       "\n",
       "    .dataframe thead th {\n",
       "        text-align: right;\n",
       "    }\n",
       "</style>\n",
       "<table border=\"1\" class=\"dataframe\">\n",
       "  <thead>\n",
       "    <tr style=\"text-align: right;\">\n",
       "      <th></th>\n",
       "      <th>Total_Males</th>\n",
       "      <th>Total_Females</th>\n",
       "    </tr>\n",
       "    <tr>\n",
       "      <th>Zip_Code</th>\n",
       "      <th></th>\n",
       "      <th></th>\n",
       "    </tr>\n",
       "  </thead>\n",
       "  <tbody>\n",
       "    <tr>\n",
       "      <th>90001</th>\n",
       "      <td>28468</td>\n",
       "      <td>28642</td>\n",
       "    </tr>\n",
       "    <tr>\n",
       "      <th>90002</th>\n",
       "      <td>24876</td>\n",
       "      <td>26347</td>\n",
       "    </tr>\n",
       "    <tr>\n",
       "      <th>90003</th>\n",
       "      <td>32631</td>\n",
       "      <td>33635</td>\n",
       "    </tr>\n",
       "    <tr>\n",
       "      <th>90004</th>\n",
       "      <td>31302</td>\n",
       "      <td>30878</td>\n",
       "    </tr>\n",
       "    <tr>\n",
       "      <th>90005</th>\n",
       "      <td>19299</td>\n",
       "      <td>18382</td>\n",
       "    </tr>\n",
       "  </tbody>\n",
       "</table>\n",
       "</div>"
      ],
      "text/plain": [
       "          Total_Males  Total_Females\n",
       "Zip_Code                            \n",
       "90001           28468          28642\n",
       "90002           24876          26347\n",
       "90003           32631          33635\n",
       "90004           31302          30878\n",
       "90005           19299          18382"
      ]
     },
     "execution_count": 26,
     "metadata": {},
     "output_type": "execute_result"
    }
   ],
   "source": [
    "population_df[['Zip_Code','Total_Males', 'Total_Females']].groupby(['Zip_Code']).sum().head()"
   ]
  },
  {
   "cell_type": "code",
   "execution_count": null,
   "metadata": {},
   "outputs": [],
   "source": []
  },
  {
   "cell_type": "code",
   "execution_count": null,
   "metadata": {},
   "outputs": [],
   "source": []
  }
 ],
 "metadata": {
  "kernelspec": {
   "display_name": "Python 3",
   "language": "python",
   "name": "python3"
  },
  "language_info": {
   "codemirror_mode": {
    "name": "ipython",
    "version": 3
   },
   "file_extension": ".py",
   "mimetype": "text/x-python",
   "name": "python",
   "nbconvert_exporter": "python",
   "pygments_lexer": "ipython3",
   "version": "3.6.5"
  }
 },
 "nbformat": 4,
 "nbformat_minor": 2
}
